{
  "nbformat": 4,
  "nbformat_minor": 0,
  "metadata": {
    "colab": {
      "name": "LRMCipynb",
      "provenance": [],
      "authorship_tag": "ABX9TyPNQefUGnnC155zJ6ZPgDDc"
    },
    "kernelspec": {
      "name": "python3",
      "display_name": "Python 3"
    },
    "language_info": {
      "name": "python"
    },
    "accelerator": "GPU"
  },
  "cells": [
    {
      "cell_type": "markdown",
      "metadata": {
        "id": "IlxNXaRZMRbP"
      },
      "source": [
        "### Image completion? \n",
        "\n",
        "Notes: \n",
        "- Uses plain SGD so training is rediculously slow. I implemented this quickly so I did not bother using VMAP to run the data in batches.\n"
      ]
    },
    {
      "cell_type": "code",
      "metadata": {
        "id": "RZ-PZicgI9L2"
      },
      "source": [
        "import numpy as np\n",
        "import jax \n",
        "import jax.numpy as jnp\n",
        "import matplotlib.pyplot as py\n",
        "from jax import grad,jit"
      ],
      "execution_count": 1,
      "outputs": []
    },
    {
      "cell_type": "markdown",
      "metadata": {
        "id": "BAHhBHAxJTJq"
      },
      "source": [
        "### Generating Data: The data is basically a array ranged from 0:1600 reshaped into a 40x40 image. "
      ]
    },
    {
      "cell_type": "code",
      "metadata": {
        "id": "XIggFhobJEaZ"
      },
      "source": [
        "\n",
        "image=np.array(range(40*40)) #This is the underlying image.\n",
        "image=image/(40*40) #normalized between 0 and 1\n",
        "image=image.reshape(40,40)\n",
        "\n",
        "\n",
        "data=[]\n",
        "\n",
        "for i in range(100): \n",
        "  temp=np.ones((40,40))\n",
        "  rx=np.random.randint(0,30) \n",
        "  ry=np.random.randint(0,30)\n",
        "  temp[rx:rx+10,ry:ry+10]=0 #Here I am removing squares of the image at random spots. \n",
        "  data.append(image*temp)"
      ],
      "execution_count": 2,
      "outputs": []
    },
    {
      "cell_type": "markdown",
      "metadata": {
        "id": "xFMeKI8GJfNe"
      },
      "source": [
        "### This is an example of the data, change the indice "
      ]
    },
    {
      "cell_type": "code",
      "metadata": {
        "colab": {
          "base_uri": "https://localhost:8080/",
          "height": 284
        },
        "id": "vu37cRG_P54i",
        "outputId": "2c922d65-26c8-4c1e-80aa-7bb651503d85"
      },
      "source": [
        "py.imshow(data[0])"
      ],
      "execution_count": 3,
      "outputs": [
        {
          "output_type": "execute_result",
          "data": {
            "text/plain": [
              "<matplotlib.image.AxesImage at 0x7f8baedecc10>"
            ]
          },
          "metadata": {
            "tags": []
          },
          "execution_count": 3
        },
        {
          "output_type": "display_data",
          "data": {
            "image/png": "[encoded data removed]",
            "text/plain": [
              "<Figure size 432x288 with 1 Axes>"
            ]
          },
          "metadata": {
            "tags": [],
            "needs_background": "light"
          }
        }
      ]
    },
    {
      "cell_type": "markdown",
      "metadata": {
        "id": "iSCTxMZAJuRQ"
      },
      "source": [
        "### Underlying Image."
      ]
    },
    {
      "cell_type": "code",
      "metadata": {
        "colab": {
          "base_uri": "https://localhost:8080/",
          "height": 284
        },
        "id": "nJ3M28mrJLx1",
        "outputId": "5828d449-6326-4d90-b12f-8925a46a181b"
      },
      "source": [
        "py.imshow(image)"
      ],
      "execution_count": 4,
      "outputs": [
        {
          "output_type": "execute_result",
          "data": {
            "text/plain": [
              "<matplotlib.image.AxesImage at 0x7f8bae8e10d0>"
            ]
          },
          "metadata": {
            "tags": []
          },
          "execution_count": 4
        },
        {
          "output_type": "display_data",
          "data": {
            "image/png": "[encoded data removed]",
            "text/plain": [
              "<Figure size 432x288 with 1 Axes>"
            ]
          },
          "metadata": {
            "tags": [],
            "needs_background": "light"
          }
        }
      ]
    },
    {
      "cell_type": "markdown",
      "metadata": {
        "id": "deXxzbrIK9wX"
      },
      "source": [
        "### The main functions for the network \n",
        "- The shapes of the matrices are not quite what I saw on the paper. "
      ]
    },
    {
      "cell_type": "code",
      "metadata": {
        "id": "X7sVnkwDMsFC"
      },
      "source": [
        "# This is the neural network . Input here is 'Z', the network parameters here are P , and the output layer 1 be 'X' the compelted matrix.\n",
        "#shape (X) = [40,40]\n",
        "# shape(Z) = [1,100]\n",
        "# shape(P) = [40*40,100]\n",
        "#the network is doing, X~=Z*P\n",
        "\n",
        "def forward(input,params): \n",
        "  layer1=jnp.dot(input,params[0].T) +params[1] \n",
        "  layer1=jax.nn.sigmoid(layer1)\n",
        "  return layer1 #image\n",
        "\n",
        "\n",
        "#This is just the MSE \n",
        "def MSE(pred,image): \n",
        "  diff=(pred-image)**2\n",
        "  sum=jnp.sum(diff)\n",
        "  return sum/(40*40)\n",
        "\n",
        "#This is to allow Jax to calculate the gradient. \n",
        "def backwards(input,params,image): \n",
        "  pred=forward(input,params) \n",
        "  return MSE(pred,image) #+ (0.2*abs(np.sum(params)))\n",
        "\n",
        "#This is probably the most different this line below is saying to calculate gradient w.r.t to the input, which is Z, and params which is 'P'. normally you would specify gradient w.r.t to parameters only. \n",
        "\n",
        "gradient=grad(backwards,argnums=(0,1)) "
      ],
      "execution_count": 5,
      "outputs": []
    },
    {
      "cell_type": "markdown",
      "metadata": {
        "id": "CfLUbZ9uLSsx"
      },
      "source": [
        "### Randomize Parameters"
      ]
    },
    {
      "cell_type": "code",
      "metadata": {
        "id": "wDhAGpVgJmZp"
      },
      "source": [
        "np.random.seed(1001)\n",
        "\n",
        "#randomize Z - This will be the input to the network.\n",
        "z=np.random.randn(100)\n",
        "\n",
        "#parameters: \n",
        "param=[]\n",
        "param.append(np.random.randn(40*40,100)/10) \n",
        "param.append(np.random.randn(40*40)) \n"
      ],
      "execution_count": 6,
      "outputs": []
    },
    {
      "cell_type": "markdown",
      "metadata": {
        "id": "xZ4SkuMdLtMU"
      },
      "source": [
        "### Training Loop - Using good old fashion SGD, but you can implement RMSProp etc . "
      ]
    },
    {
      "cell_type": "code",
      "metadata": {
        "colab": {
          "base_uri": "https://localhost:8080/"
        },
        "id": "TRdxOKIzNxj5",
        "outputId": "7bb18a38-8c02-4662-f59b-5bcfe96149a3"
      },
      "source": [
        "lr=0.1 #this is finicky since I am using np.random.randn to initialize parameters and not some other initialization/scaling scheme.\n",
        "plotting=[]\n",
        "epochs=50\n",
        "for e in range(epochs) :\n",
        "  loss=0.0  \n",
        "  for sam in (data):\n",
        "    sam=sam.flatten() \n",
        "    #calculates gradient, w.r.t to 'Z' and params (which is like calculating gradient w.r.t to Z and P \n",
        "    dz,dp=jit(gradient)(z,param,sam)  \n",
        "    loss+=backwards(z,param,sam)\n",
        "    #Update parameters \n",
        "    z=z-(lr*dz) \n",
        "    param[0]-=lr*dp[0]\n",
        "    param[1]-=lr*dp[1]\n",
        "    \n",
        "\n",
        "  print(f'epoch: ', e,' loss : ', loss/100) \n",
        "  plotting.append(loss) \n"
      ],
      "execution_count": 7,
      "outputs": [
        {
          "output_type": "stream",
          "text": [
            "epoch:  0  loss :  0.15058295\n",
            "epoch:  1  loss :  0.14149667\n",
            "epoch:  2  loss :  0.13285619\n",
            "epoch:  3  loss :  0.1246578\n",
            "epoch:  4  loss :  0.11689529\n",
            "epoch:  5  loss :  0.10956112\n",
            "epoch:  6  loss :  0.10264695\n",
            "epoch:  7  loss :  0.09614445\n",
            "epoch:  8  loss :  0.090044774\n",
            "epoch:  9  loss :  0.0843385\n",
            "epoch:  10  loss :  0.079015255\n",
            "epoch:  11  loss :  0.07406341\n",
            "epoch:  12  loss :  0.06947013\n",
            "epoch:  13  loss :  0.06522168\n",
            "epoch:  14  loss :  0.061303787\n",
            "epoch:  15  loss :  0.05770168\n",
            "epoch:  16  loss :  0.054399755\n",
            "epoch:  17  loss :  0.051381037\n",
            "epoch:  18  loss :  0.048626978\n",
            "epoch:  19  loss :  0.0461173\n",
            "epoch:  20  loss :  0.04383067\n",
            "epoch:  21  loss :  0.041745655\n",
            "epoch:  22  loss :  0.03984174\n",
            "epoch:  23  loss :  0.038100123\n",
            "epoch:  24  loss :  0.03650425\n",
            "epoch:  25  loss :  0.035039857\n",
            "epoch:  26  loss :  0.033694666\n",
            "epoch:  27  loss :  0.03245791\n",
            "epoch:  28  loss :  0.031320017\n",
            "epoch:  29  loss :  0.030272394\n",
            "epoch:  30  loss :  0.029307429\n",
            "epoch:  31  loss :  0.028418431\n",
            "epoch:  32  loss :  0.027599543\n",
            "epoch:  33  loss :  0.0268455\n",
            "epoch:  34  loss :  0.026151478\n",
            "epoch:  35  loss :  0.025512967\n",
            "epoch:  36  loss :  0.024925726\n",
            "epoch:  37  loss :  0.024385648\n",
            "epoch:  38  loss :  0.023888718\n",
            "epoch:  39  loss :  0.023431053\n",
            "epoch:  40  loss :  0.023009028\n",
            "epoch:  41  loss :  0.022619344\n",
            "epoch:  42  loss :  0.022259142\n",
            "epoch:  43  loss :  0.0219259\n",
            "epoch:  44  loss :  0.021617446\n",
            "epoch:  45  loss :  0.021331942\n",
            "epoch:  46  loss :  0.021067683\n",
            "epoch:  47  loss :  0.020823145\n",
            "epoch:  48  loss :  0.020596862\n",
            "epoch:  49  loss :  0.02038744\n"
          ],
          "name": "stdout"
        }
      ]
    },
    {
      "cell_type": "markdown",
      "metadata": {
        "id": "Sc2o9soJMu_o"
      },
      "source": [
        "### Plot training : loss versus epochs. \n",
        "- No axes labels-Nice"
      ]
    },
    {
      "cell_type": "code",
      "metadata": {
        "colab": {
          "base_uri": "https://localhost:8080/",
          "height": 282
        },
        "id": "iWRLS1MlMw75",
        "outputId": "6d0b4bc9-23ee-4e63-d05b-95597906176a"
      },
      "source": [
        "py.plot(range(0,epochs),plotting)"
      ],
      "execution_count": 8,
      "outputs": [
        {
          "output_type": "execute_result",
          "data": {
            "text/plain": [
              "[<matplotlib.lines.Line2D at 0x7f8b96cdeb50>]"
            ]
          },
          "metadata": {
            "tags": []
          },
          "execution_count": 8
        },
        {
          "output_type": "display_data",
          "data": {
            "image/png": "[encoded data removed]",
            "text/plain": [
              "<Figure size 432x288 with 1 Axes>"
            ]
          },
          "metadata": {
            "tags": [],
            "needs_background": "light"
          }
        }
      ]
    },
    {
      "cell_type": "markdown",
      "metadata": {
        "id": "Q7MeWIj1LjNX"
      },
      "source": [
        "### See what the network outputs, but using the learned 'Z' and 'Param' values."
      ]
    },
    {
      "cell_type": "code",
      "metadata": {
        "colab": {
          "base_uri": "https://localhost:8080/",
          "height": 284
        },
        "id": "wjLvRpbuPra1",
        "outputId": "e61fc7ff-498a-4d1c-c2f3-f2432de4bbd2"
      },
      "source": [
        "t=forward(z,param)\n",
        "py.imshow(t.reshape(40,40))"
      ],
      "execution_count": 9,
      "outputs": [
        {
          "output_type": "execute_result",
          "data": {
            "text/plain": [
              "<matplotlib.image.AxesImage at 0x7f8b96c421d0>"
            ]
          },
          "metadata": {
            "tags": []
          },
          "execution_count": 9
        },
        {
          "output_type": "display_data",
          "data": {
            "image/png": "[encoded data removed]",
            "text/plain": [
              "<Figure size 432x288 with 1 Axes>"
            ]
          },
          "metadata": {
            "tags": [],
            "needs_background": "light"
          }
        }
      ]
    },
    {
      "cell_type": "code",
      "metadata": {
        "id": "YFpCxlOnbuXH"
      },
      "source": [
        ""
      ],
      "execution_count": 9,
      "outputs": []
    }
  ]
}
